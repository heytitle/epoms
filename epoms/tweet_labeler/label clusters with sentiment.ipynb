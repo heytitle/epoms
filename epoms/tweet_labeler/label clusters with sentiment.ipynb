{
 "cells": [
  {
   "cell_type": "code",
   "execution_count": 1,
   "metadata": {
    "collapsed": false
   },
   "outputs": [
    {
     "name": "stdout",
     "output_type": "stream",
     "text": [
      "Reading tweets\n",
      "\n",
      "Building vocabulary\n",
      "\n",
      "Getting vectorizer\n",
      "\n",
      "Getting distance\n",
      "\n",
      "Getting clusters\n"
     ]
    }
   ],
   "source": [
    "%time execfile(\"cluster_workflow.py\")"
   ]
  },
  {
   "cell_type": "code",
   "execution_count": 8,
   "metadata": {
    "collapsed": false
   },
   "outputs": [],
   "source": [
    "execfile(\"cluster_helpers.py\")\n",
    "# print_clusters()"
   ]
  },
  {
   "cell_type": "code",
   "execution_count": 5,
   "metadata": {
    "collapsed": false
   },
   "outputs": [
    {
     "name": "stdout",
     "output_type": "stream",
     "text": [
      "there are 118746 items in vocab_frame\n",
      "(9148, 124)\n",
      "'s\n",
      "//amzn.to/gojg7h\n",
      "//gekoo.co/buy/01/\n",
      "//ift.tt/1mdjvfw\n",
      "//www.amazon.com/gp/product/b006w2syf8/ref=cm_sw_r_tw\n",
      "//www.amazon.com/gp/product/b006w2syi0/ref=cm_sw_r_tw_alp_umadqb0hvx3d5\n",
      "1150x\n",
      "1150x/40\n",
      "1150x/46\n",
      "1160x/47\n",
      "2    3248\n",
      "1    1223\n",
      "0    1103\n",
      "5     712\n",
      "4     690\n",
      "9     670\n",
      "8     552\n",
      "3     355\n",
      "7     315\n",
      "6     280\n",
      "dtype: int64\n"
     ]
    }
   ],
   "source": [
    "print 'there are ' + str(vocab_df.shape[0]) + ' items in vocab_frame'\n",
    "print(tfidf_matrix.shape)\n",
    "for o in terms[:10]:\n",
    "    print o\n",
    "print(df['cluster'].value_counts())  # tweets per cluster"
   ]
  },
  {
   "cell_type": "code",
   "execution_count": 23,
   "metadata": {
    "collapsed": false
   },
   "outputs": [
    {
     "name": "stderr",
     "output_type": "stream",
     "text": [
      "/usr/local/lib/python2.7/site-packages/ipython-3.1.0-py2.7.egg/IPython/kernel/__main__.py:4: SettingWithCopyWarning: \n",
      "A value is trying to be set on a copy of a slice from a DataFrame\n",
      "\n",
      "See the the caveats in the documentation: http://pandas.pydata.org/pandas-docs/stable/indexing.html#indexing-view-versus-copy\n",
      "/usr/local/lib/python2.7/site-packages/ipython-3.1.0-py2.7.egg/IPython/kernel/__main__.py:7: SettingWithCopyWarning: \n",
      "A value is trying to be set on a copy of a slice from a DataFrame\n",
      "\n",
      "See the the caveats in the documentation: http://pandas.pydata.org/pandas-docs/stable/indexing.html#indexing-view-versus-copy\n"
     ]
    },
    {
     "name": "stdout",
     "output_type": "stream",
     "text": [
      "1    5420\n",
      "0    2326\n",
      "2    1402\n",
      "dtype: int64\n"
     ]
    }
   ],
   "source": [
    "df['sentiment'] = 1\n",
    "positive_clusters = [0,1]\n",
    "for i in positive_clusters:\n",
    "    df.sentiment[df.cluster == i] = 0\n",
    "negative_clusters = [4,5]\n",
    "for i in negative_clusters:\n",
    "    df.sentiment[df.cluster == i] = 2\n",
    "print(df['sentiment'].value_counts())"
   ]
  },
  {
   "cell_type": "code",
   "execution_count": null,
   "metadata": {
    "collapsed": true
   },
   "outputs": [],
   "source": []
  }
 ],
 "metadata": {
  "kernelspec": {
   "display_name": "Python 2",
   "language": "python",
   "name": "python2"
  },
  "language_info": {
   "codemirror_mode": {
    "name": "ipython",
    "version": 2
   },
   "file_extension": ".py",
   "mimetype": "text/x-python",
   "name": "python",
   "nbconvert_exporter": "python",
   "pygments_lexer": "ipython2",
   "version": "2.7.9"
  }
 },
 "nbformat": 4,
 "nbformat_minor": 0
}
